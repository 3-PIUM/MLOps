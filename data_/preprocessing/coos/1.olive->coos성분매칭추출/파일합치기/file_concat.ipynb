{
 "cells": [
  {
   "cell_type": "code",
   "execution_count": 5,
   "id": "f3549b5f",
   "metadata": {},
   "outputs": [],
   "source": [
    "import pandas as pd\n",
    "import os\n",
    "import numpy as np"
   ]
  },
  {
   "cell_type": "code",
   "execution_count": 6,
   "id": "24981f88",
   "metadata": {},
   "outputs": [],
   "source": [
    "def read_and_merge_files(file_paths):\n",
    "    \"\"\"\n",
    "    여러 CSV 파일을 읽어서 하나로 합쳐서 저장하는 함수\n",
    "    \n",
    "    Args:\n",
    "        file_paths: 파일 경로들의 리스트\n",
    "    \"\"\"\n",
    "    dataframes = []\n",
    "    \n",
    "    for path in file_paths:\n",
    "        try:\n",
    "            df = pd.read_csv(path)\n",
    "            print(f\"✅ {os.path.basename(path)} 읽기 완료 - {len(df)}행\")\n",
    "            dataframes.append(df)\n",
    "        except Exception as e:\n",
    "            print(f\"❌ {path} 읽기 실패: {e}\")\n",
    "    \n",
    "    if dataframes:\n",
    "        merged_df = pd.concat(dataframes, ignore_index=True)\n",
    "        \n",
    "        # CSV로 저장\n",
    "        merged_df.to_csv('상품정보.csv', index=False, encoding='utf-8-sig')\n",
    "        print(f\"🎉 총 {len(merged_df)}행이 '상품정보.csv'로 저장되었습니다!\")\n",
    "    else:\n",
    "        print(\"읽을 수 있는 파일이 없습니다.\")\n",
    "    "
   ]
  },
  {
   "cell_type": "code",
   "execution_count": 7,
   "id": "0c010544",
   "metadata": {},
   "outputs": [
    {
     "name": "stdout",
     "output_type": "stream",
     "text": [
      "✅ 마스크팩_시트팩_상품정보.csv 읽기 완료 - 570행\n",
      "✅ 마스크팩_코팩_상품정보.csv 읽기 완료 - 32행\n",
      "✅ 마스크팩_패드_상품정보.csv 읽기 완료 - 269행\n",
      "✅ 마스크팩_페이셜팩_상품정보.csv 읽기 완료 - 223행\n",
      "✅ 마스크팩_패치_상품정보.csv 읽기 완료 - 40행\n",
      "🎉 총 1134행이 '상품정보.csv'로 저장되었습니다!\n"
     ]
    }
   ],
   "source": [
    "file_paths = [\n",
    "    '/Users/sein/Desktop/programming/portfolio/projects/화장품/olivedata/마스크팩/마스크팩_시트팩_상품정보.csv',\n",
    "    '/Users/sein/Desktop/programming/portfolio/projects/화장품/olivedata/마스크팩/마스크팩_코팩_상품정보.csv',\n",
    "    '/Users/sein/Desktop/programming/portfolio/projects/화장품/olivedata/마스크팩/마스크팩_패드_상품정보.csv',\n",
    "    '/Users/sein/Desktop/programming/portfolio/projects/화장품/olivedata/마스크팩/마스크팩_페이셜팩_상품정보.csv',\n",
    "    '/Users/sein/Desktop/programming/portfolio/projects/화장품/olivedata/마스크팩/마스크팩_패치_상품정보.csv'\n",
    "]\n",
    "merged_data = read_and_merge_files(file_paths)"
   ]
  },
  {
   "cell_type": "code",
   "execution_count": 9,
   "id": "587120a3",
   "metadata": {},
   "outputs": [
    {
     "name": "stdout",
     "output_type": "stream",
     "text": [
      "✅ 맨즈케어_메이크업_전체상품정보.csv 읽기 완료 - 129행\n",
      "✅ 맨즈케어_바디케어_상품정보.csv 읽기 완료 - 106행\n",
      "✅ 맨즈케어_쉐이빙-왁싱_전체상품정보.csv 읽기 완료 - 220행\n",
      "✅ 맨즈케어_스킨케어_상품정보.csv 읽기 완료 - 399행\n",
      "✅ 맨즈케어_헤어케어_전체상품정보.csv 읽기 완료 - 324행\n",
      "🎉 총 1178행이 '상품정보.csv'로 저장되었습니다!\n"
     ]
    }
   ],
   "source": [
    "men_file_paths = [\n",
    "    '/Users/sein/Desktop/programming/portfolio/projects/화장품/olivedata/맨즈케어/맨즈케어_메이크업_전체상품정보.csv',\n",
    "    '/Users/sein/Desktop/programming/portfolio/projects/화장품/olivedata/맨즈케어/맨즈케어_바디케어_상품정보.csv',\n",
    "    '/Users/sein/Desktop/programming/portfolio/projects/화장품/olivedata/맨즈케어/맨즈케어_쉐이빙-왁싱_전체상품정보.csv',\n",
    "    '/Users/sein/Desktop/programming/portfolio/projects/화장품/olivedata/맨즈케어/맨즈케어_스킨케어_상품정보.csv',\n",
    "    '/Users/sein/Desktop/programming/portfolio/projects/화장품/olivedata/맨즈케어/맨즈케어_헤어케어_전체상품정보.csv'\n",
    "]\n",
    "men_merged_data = read_and_merge_files(men_file_paths)"
   ]
  },
  {
   "cell_type": "code",
   "execution_count": 10,
   "id": "e6ee400d",
   "metadata": {},
   "outputs": [
    {
     "name": "stdout",
     "output_type": "stream",
     "text": [
      "✅ 메이크업_립메이크업_상품정보.csv 읽기 완료 - 701행\n",
      "✅ 메이크업_베이스메이크업_상품정보.csv 읽기 완료 - 752행\n",
      "✅ 메이크업_아이메이크업_상품정보.csv 읽기 완료 - 325행\n",
      "🎉 총 1778행이 '상품정보.csv'로 저장되었습니다!\n"
     ]
    }
   ],
   "source": [
    "makeup_file_paths = [\n",
    "    '/Users/sein/Desktop/programming/portfolio/projects/화장품/olivedata/메이크업/메이크업_립메이크업_상품정보.csv',\n",
    "    '/Users/sein/Desktop/programming/portfolio/projects/화장품/olivedata/메이크업/메이크업_베이스메이크업_상품정보.csv',\n",
    "    '/Users/sein/Desktop/programming/portfolio/projects/화장품/olivedata/메이크업/메이크업_아이메이크업_상품정보.csv'\n",
    "]\n",
    "makeup_merged_data = read_and_merge_files(makeup_file_paths)"
   ]
  },
  {
   "cell_type": "code",
   "execution_count": 13,
   "id": "19df08e8",
   "metadata": {},
   "outputs": [
    {
     "name": "stdout",
     "output_type": "stream",
     "text": [
      "✅ 선크림_선스틱_상품정보.csv 읽기 완료 - 78행\n",
      "✅ 선크림_선스프레이-선패치_상품정보.csv 읽기 완료 - 24행\n",
      "✅ 선크림_선쿠션_상품정보.csv 읽기 완료 - 32행\n",
      "✅ 선크림_선크림_상품정보.csv 읽기 완료 - 486행\n",
      "✅ 선크림_태닝-애프터_1_상품정보.csv 읽기 완료 - 31행\n",
      "🎉 총 651행이 '상품정보.csv'로 저장되었습니다!\n"
     ]
    }
   ],
   "source": [
    "suncream_file_paths = [\n",
    "    '/Users/sein/Desktop/programming/portfolio/projects/화장품/olivedata/선케어/선크림_선스틱_상품정보.csv',\n",
    "    '/Users/sein/Desktop/programming/portfolio/projects/화장품/olivedata/선케어/선크림_선스프레이-선패치_상품정보.csv',\n",
    "    '/Users/sein/Desktop/programming/portfolio/projects/화장품/olivedata/선케어/선크림_선쿠션_상품정보.csv',\n",
    "    '/Users/sein/Desktop/programming/portfolio/projects/화장품/olivedata/선케어/선크림_선크림_상품정보.csv',\n",
    "    '/Users/sein/Desktop/programming/portfolio/projects/화장품/olivedata/선케어/선크림_태닝-애프터_1_상품정보.csv'\n",
    "]\n",
    "suncream_merged_data = read_and_merge_files(suncream_file_paths)"
   ]
  },
  {
   "cell_type": "code",
   "execution_count": 14,
   "id": "05578349",
   "metadata": {},
   "outputs": [
    {
     "name": "stdout",
     "output_type": "stream",
     "text": [
      "✅ 스킨케어_로션_상품.csv 읽기 완료 - 252행\n",
      "✅ 스킨케어_미스트-오일_상품.csv 읽기 완료 - 95행\n",
      "✅ 스킨케어_스킨-토너_상품.csv 읽기 완료 - 375행\n",
      "✅ 스킨케어_스킨케어세트_상품.csv 읽기 완료 - 102행\n",
      "✅ 스킨케어_스킨케어-디바이스_상품.csv 읽기 완료 - 71행\n",
      "✅ 스킨케어_에센스-세럼-앰플_상품.csv 읽기 완료 - 827행\n",
      "✅ 스킨케어_크림_상품.csv 읽기 완료 - 750행\n",
      "🎉 총 2472행이 '상품정보.csv'로 저장되었습니다!\n"
     ]
    }
   ],
   "source": [
    "skin_file_paths = [\n",
    "    '/Users/sein/Desktop/programming/portfolio/projects/화장품/olivedata/스킨케어/스킨케어_로션_상품.csv',\n",
    "    '/Users/sein/Desktop/programming/portfolio/projects/화장품/olivedata/스킨케어/스킨케어_미스트-오일_상품.csv',\n",
    "    '/Users/sein/Desktop/programming/portfolio/projects/화장품/olivedata/스킨케어/스킨케어_스킨-토너_상품.csv',\n",
    "    '/Users/sein/Desktop/programming/portfolio/projects/화장품/olivedata/스킨케어/스킨케어_스킨케어세트_상품.csv',\n",
    "    '/Users/sein/Desktop/programming/portfolio/projects/화장품/olivedata/스킨케어/스킨케어_스킨케어-디바이스_상품.csv',\n",
    "    '/Users/sein/Desktop/programming/portfolio/projects/화장품/olivedata/스킨케어/스킨케어_에센스-세럼-앰플_상품.csv',\n",
    "    '/Users/sein/Desktop/programming/portfolio/projects/화장품/olivedata/스킨케어/스킨케어_크림_상품.csv'\n",
    "]\n",
    "skin_merged_data = read_and_merge_files(skin_file_paths)"
   ]
  },
  {
   "cell_type": "code",
   "execution_count": 15,
   "id": "161ca5cb",
   "metadata": {},
   "outputs": [
    {
     "name": "stdout",
     "output_type": "stream",
     "text": [
      "✅ 클렌징_립&아이리무버_상품.csv 읽기 완료 - 57행\n",
      "✅ 클렌징_오일-밤_상품.csv 읽기 완료 - 203행\n",
      "✅ 클렌징_워터-밀크_상품.csv 읽기 완료 - 89행\n",
      "✅ 클렌징_클렌징 디바이스_상품.csv 읽기 완료 - 13행\n",
      "✅ 클렌징_클렌징폼-젤_상품.csv 읽기 완료 - 478행\n",
      "✅ 클렌징_티슈-패드_상품.csv 읽기 완료 - 51행\n",
      "✅ 클렌징_필링&스크럽_상품.csv 읽기 완료 - 116행\n",
      "🎉 총 1007행이 '상품정보.csv'로 저장되었습니다!\n"
     ]
    }
   ],
   "source": [
    "clean_file_paths = [\n",
    "    '/Users/sein/Desktop/programming/portfolio/projects/화장품/olivedata/클렌징/클렌징_립&아이리무버_상품.csv',\n",
    "    '/Users/sein/Desktop/programming/portfolio/projects/화장품/olivedata/클렌징/클렌징_오일-밤_상품.csv',\n",
    "    '/Users/sein/Desktop/programming/portfolio/projects/화장품/olivedata/클렌징/클렌징_워터-밀크_상품.csv',\n",
    "    '/Users/sein/Desktop/programming/portfolio/projects/화장품/olivedata/클렌징/클렌징_클렌징 디바이스_상품.csv',\n",
    "    '/Users/sein/Desktop/programming/portfolio/projects/화장품/olivedata/클렌징/클렌징_클렌징폼-젤_상품.csv',\n",
    "    '/Users/sein/Desktop/programming/portfolio/projects/화장품/olivedata/클렌징/클렌징_티슈-패드_상품.csv',\n",
    "    '/Users/sein/Desktop/programming/portfolio/projects/화장품/olivedata/클렌징/클렌징_필링&스크럽_상품.csv'\n",
    "]\n",
    "clean_merged_data = read_and_merge_files(clean_file_paths)"
   ]
  },
  {
   "cell_type": "code",
   "execution_count": null,
   "id": "b9533f87",
   "metadata": {},
   "outputs": [],
   "source": []
  }
 ],
 "metadata": {
  "kernelspec": {
   "display_name": "base",
   "language": "python",
   "name": "python3"
  },
  "language_info": {
   "codemirror_mode": {
    "name": "ipython",
    "version": 3
   },
   "file_extension": ".py",
   "mimetype": "text/x-python",
   "name": "python",
   "nbconvert_exporter": "python",
   "pygments_lexer": "ipython3",
   "version": "3.12.7"
  }
 },
 "nbformat": 4,
 "nbformat_minor": 5
}
