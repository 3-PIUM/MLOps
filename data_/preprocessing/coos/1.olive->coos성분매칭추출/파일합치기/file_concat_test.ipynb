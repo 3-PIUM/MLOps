{
 "cells": [
  {
   "cell_type": "code",
   "execution_count": 6,
   "id": "a610c2a2",
   "metadata": {},
   "outputs": [],
   "source": [
    "import pandas as pd\n",
    "import numpy as np\n",
    "\n",
    "path = \"/Users/sein/Desktop/programming/portfolio/projects/화장품/cooscrawling/마스크팩/re_전처리/상품정보_no_description.csv\""
   ]
  },
  {
   "cell_type": "code",
   "execution_count": 8,
   "id": "0a4a3e5b",
   "metadata": {},
   "outputs": [
    {
     "name": "stdout",
     "output_type": "stream",
     "text": [
      "성분\n",
      "카올린\n",
      "벤토나이트\n",
      "대왕송잎추출물\n",
      "티트리잎추출물\n",
      "하이드롤라이즈드하이알루로닉애씨드\n",
      "라이소레시친\n",
      "메티오닐알-클로스트리디움보툴리눔폴리펩타이드-1헥사펩타이드-40\n",
      "글루타티온\n",
      "향료\n",
      "아시아틱애씨드\n",
      "콜라겐\n",
      "판테놀\n",
      "아시아티코사이드\n",
      "프로폴리스추출물\n",
      "카우슬립추출물\n",
      "1,2-헥산다이올\n",
      "메칠프로판디올\n",
      "글리세레스-26\n",
      "글리세린\n"
     ]
    }
   ],
   "source": [
    "with open(path, 'r', encoding='utf-8-sig') as f:\n",
    "    for i in range(20):\n",
    "        print(f.readline().strip())\n"
   ]
  },
  {
   "cell_type": "code",
   "execution_count": 16,
   "id": "d9564a04",
   "metadata": {},
   "outputs": [
    {
     "data": {
      "text/html": [
       "<div>\n",
       "<style scoped>\n",
       "    .dataframe tbody tr th:only-of-type {\n",
       "        vertical-align: middle;\n",
       "    }\n",
       "\n",
       "    .dataframe tbody tr th {\n",
       "        vertical-align: top;\n",
       "    }\n",
       "\n",
       "    .dataframe thead th {\n",
       "        text-align: right;\n",
       "    }\n",
       "</style>\n",
       "<table border=\"1\" class=\"dataframe\">\n",
       "  <thead>\n",
       "    <tr style=\"text-align: right;\">\n",
       "      <th></th>\n",
       "      <th>성분</th>\n",
       "    </tr>\n",
       "  </thead>\n",
       "  <tbody>\n",
       "    <tr>\n",
       "      <th>0</th>\n",
       "      <td>카올린</td>\n",
       "    </tr>\n",
       "    <tr>\n",
       "      <th>1</th>\n",
       "      <td>벤토나이트</td>\n",
       "    </tr>\n",
       "    <tr>\n",
       "      <th>2</th>\n",
       "      <td>대왕송잎추출물</td>\n",
       "    </tr>\n",
       "    <tr>\n",
       "      <th>3</th>\n",
       "      <td>티트리잎추출물</td>\n",
       "    </tr>\n",
       "    <tr>\n",
       "      <th>4</th>\n",
       "      <td>하이드롤라이즈드하이알루로닉애씨드</td>\n",
       "    </tr>\n",
       "    <tr>\n",
       "      <th>...</th>\n",
       "      <td>...</td>\n",
       "    </tr>\n",
       "    <tr>\n",
       "      <th>1407</th>\n",
       "      <td>적색산화철</td>\n",
       "    </tr>\n",
       "    <tr>\n",
       "      <th>1408</th>\n",
       "      <td>콜라겐추출물</td>\n",
       "    </tr>\n",
       "    <tr>\n",
       "      <th>1409</th>\n",
       "      <td>하이드롤라이즈드해면</td>\n",
       "    </tr>\n",
       "    <tr>\n",
       "      <th>1410</th>\n",
       "      <td>아마인추출물</td>\n",
       "    </tr>\n",
       "    <tr>\n",
       "      <th>1411</th>\n",
       "      <td>클로헥시딘디글루코네이트</td>\n",
       "    </tr>\n",
       "  </tbody>\n",
       "</table>\n",
       "<p>1412 rows × 1 columns</p>\n",
       "</div>"
      ],
      "text/plain": [
       "                     성분\n",
       "0                   카올린\n",
       "1                 벤토나이트\n",
       "2               대왕송잎추출물\n",
       "3               티트리잎추출물\n",
       "4     하이드롤라이즈드하이알루로닉애씨드\n",
       "...                 ...\n",
       "1407              적색산화철\n",
       "1408             콜라겐추출물\n",
       "1409         하이드롤라이즈드해면\n",
       "1410             아마인추출물\n",
       "1411       클로헥시딘디글루코네이트\n",
       "\n",
       "[1412 rows x 1 columns]"
      ]
     },
     "execution_count": 16,
     "metadata": {},
     "output_type": "execute_result"
    }
   ],
   "source": [
    "df = pd.read_csv(path,encoding='utf-8')\n",
    "df"
   ]
  },
  {
   "cell_type": "code",
   "execution_count": 43,
   "id": "739d6a98",
   "metadata": {},
   "outputs": [],
   "source": [
    "def remove_v1(path):\n",
    "    v1 = pd.read_csv(path, encoding= 'utf-8')\n",
    "    print(v1.shape)\n",
    "    cond = v1['AI_설명'] != '설명 없음'\n",
    "    v1  = v1[cond]\n",
    "    print(v1.shape)\n",
    "    return v1"
   ]
  },
  {
   "cell_type": "code",
   "execution_count": 44,
   "id": "f19d52ac",
   "metadata": {},
   "outputs": [
    {
     "name": "stdout",
     "output_type": "stream",
     "text": [
      "(3370, 4)\n",
      "(1947, 4)\n"
     ]
    }
   ],
   "source": [
    "v1 = remove_v1(\"./마스크팩/COOS/상품정보_COOSdata.csv\")"
   ]
  },
  {
   "cell_type": "code",
   "execution_count": 45,
   "id": "6490f8ce",
   "metadata": {},
   "outputs": [
    {
     "data": {
      "text/html": [
       "<div>\n",
       "<style scoped>\n",
       "    .dataframe tbody tr th:only-of-type {\n",
       "        vertical-align: middle;\n",
       "    }\n",
       "\n",
       "    .dataframe tbody tr th {\n",
       "        vertical-align: top;\n",
       "    }\n",
       "\n",
       "    .dataframe thead th {\n",
       "        text-align: right;\n",
       "    }\n",
       "</style>\n",
       "<table border=\"1\" class=\"dataframe\">\n",
       "  <thead>\n",
       "    <tr style=\"text-align: right;\">\n",
       "      <th></th>\n",
       "      <th>성분</th>\n",
       "    </tr>\n",
       "  </thead>\n",
       "  <tbody>\n",
       "    <tr>\n",
       "      <th>0</th>\n",
       "      <td>카올린</td>\n",
       "    </tr>\n",
       "    <tr>\n",
       "      <th>1</th>\n",
       "      <td>벤토나이트</td>\n",
       "    </tr>\n",
       "    <tr>\n",
       "      <th>2</th>\n",
       "      <td>대왕송잎추출물</td>\n",
       "    </tr>\n",
       "    <tr>\n",
       "      <th>3</th>\n",
       "      <td>티트리잎추출물</td>\n",
       "    </tr>\n",
       "    <tr>\n",
       "      <th>4</th>\n",
       "      <td>하이드롤라이즈드하이알루로닉애씨드</td>\n",
       "    </tr>\n",
       "    <tr>\n",
       "      <th>...</th>\n",
       "      <td>...</td>\n",
       "    </tr>\n",
       "    <tr>\n",
       "      <th>1407</th>\n",
       "      <td>적색산화철</td>\n",
       "    </tr>\n",
       "    <tr>\n",
       "      <th>1408</th>\n",
       "      <td>콜라겐추출물</td>\n",
       "    </tr>\n",
       "    <tr>\n",
       "      <th>1409</th>\n",
       "      <td>하이드롤라이즈드해면</td>\n",
       "    </tr>\n",
       "    <tr>\n",
       "      <th>1410</th>\n",
       "      <td>아마인추출물</td>\n",
       "    </tr>\n",
       "    <tr>\n",
       "      <th>1411</th>\n",
       "      <td>클로헥시딘디글루코네이트</td>\n",
       "    </tr>\n",
       "  </tbody>\n",
       "</table>\n",
       "<p>1412 rows × 1 columns</p>\n",
       "</div>"
      ],
      "text/plain": [
       "                     성분\n",
       "0                   카올린\n",
       "1                 벤토나이트\n",
       "2               대왕송잎추출물\n",
       "3               티트리잎추출물\n",
       "4     하이드롤라이즈드하이알루로닉애씨드\n",
       "...                 ...\n",
       "1407              적색산화철\n",
       "1408             콜라겐추출물\n",
       "1409         하이드롤라이즈드해면\n",
       "1410             아마인추출물\n",
       "1411       클로헥시딘디글루코네이트\n",
       "\n",
       "[1412 rows x 1 columns]"
      ]
     },
     "execution_count": 45,
     "metadata": {},
     "output_type": "execute_result"
    }
   ],
   "source": [
    "# re_전처리는 몇개니\n",
    "df = pd.read_csv('./마스크팩/re_전처리/상품정보_no_description.csv')\n",
    "df"
   ]
  }
 ],
 "metadata": {
  "kernelspec": {
   "display_name": "base",
   "language": "python",
   "name": "python3"
  },
  "language_info": {
   "codemirror_mode": {
    "name": "ipython",
    "version": 3
   },
   "file_extension": ".py",
   "mimetype": "text/x-python",
   "name": "python",
   "nbconvert_exporter": "python",
   "pygments_lexer": "ipython3",
   "version": "3.12.7"
  }
 },
 "nbformat": 4,
 "nbformat_minor": 5
}
