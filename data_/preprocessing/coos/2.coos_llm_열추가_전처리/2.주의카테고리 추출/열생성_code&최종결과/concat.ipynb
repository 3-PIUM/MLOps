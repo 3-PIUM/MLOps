{
 "cells": [
  {
   "cell_type": "markdown",
   "id": "ac10103d",
   "metadata": {},
   "source": [
    "주의카테고리, 주의피부타입 LLM으로 생성한 csv 끼리 합치기"
   ]
  },
  {
   "cell_type": "markdown",
   "id": "b8d3f3d7",
   "metadata": {},
   "source": [
    "1. 6/16 우선 만개만"
   ]
  },
  {
   "cell_type": "code",
   "execution_count": 1,
   "id": "8d6f7a82",
   "metadata": {},
   "outputs": [],
   "source": [
    "import pandas as pd\n",
    "coos_4000 = pd.read_csv(\"./coos_result_10000개_중4000개(누락).csv\")\n",
    "coos_6000 = pd.read_csv(\"./coos_result_10000개_중6000개.csv\")"
   ]
  },
  {
   "cell_type": "code",
   "execution_count": 2,
   "id": "dd5b662d",
   "metadata": {},
   "outputs": [],
   "source": [
    "coos_10000 = pd.concat([coos_4000,coos_6000],ignore_index=True)\n",
    "coos_10000.to_csv('coos_result_10000개.csv', index=False)"
   ]
  },
  {
   "cell_type": "code",
   "execution_count": null,
   "id": "fdce5071",
   "metadata": {},
   "outputs": [],
   "source": []
  }
 ],
 "metadata": {
  "kernelspec": {
   "display_name": "coosllm",
   "language": "python",
   "name": "python3"
  },
  "language_info": {
   "codemirror_mode": {
    "name": "ipython",
    "version": 3
   },
   "file_extension": ".py",
   "mimetype": "text/x-python",
   "name": "python",
   "nbconvert_exporter": "python",
   "pygments_lexer": "ipython3",
   "version": "3.11.13"
  }
 },
 "nbformat": 4,
 "nbformat_minor": 5
}
